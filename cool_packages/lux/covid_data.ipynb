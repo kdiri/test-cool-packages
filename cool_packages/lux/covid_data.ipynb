{
 "cells": [
  {
   "cell_type": "code",
   "execution_count": 1,
   "id": "55a7de82",
   "metadata": {},
   "outputs": [],
   "source": [
    "import lux \n",
    "import pandas as pd"
   ]
  },
  {
   "cell_type": "code",
   "execution_count": 2,
   "id": "1f551dd4",
   "metadata": {},
   "outputs": [],
   "source": [
    "HPI = pd.read_csv(\"https://github.com/lux-org/lux-datasets/blob/master/data/hpi_full.csv?raw=True\")\n",
    "# We add an additional feature column, describing whether the country is one of the G10 nations\n",
    "HPI[\"G10\"]  = HPI[\"Country\"].isin([\"Belgium\",\"Canada\",\"France\",\"Germany\",\"Italy\",\"Japan\",\"Netherlands\",\"United Kingdom\",\"Switzerland\",\"Sweden\",\"United States of America\"])"
   ]
  },
  {
   "cell_type": "code",
   "execution_count": 3,
   "id": "c3e053d2",
   "metadata": {},
   "outputs": [
    {
     "data": {
      "application/vnd.jupyter.widget-view+json": {
       "model_id": "1357a5fe1d1d4e15a84817e3e505d502",
       "version_major": 2,
       "version_minor": 0
      },
      "text/plain": [
       "Button(description='Toggle Pandas/Lux', layout=Layout(top='5px', width='140px'), style=ButtonStyle())"
      ]
     },
     "metadata": {},
     "output_type": "display_data"
    },
    {
     "data": {
      "application/vnd.jupyter.widget-view+json": {
       "model_id": "2f613e8fc2cc4fd1b19103377470e6d5",
       "version_major": 2,
       "version_minor": 0
      },
      "text/plain": [
       "Output()"
      ]
     },
     "metadata": {},
     "output_type": "display_data"
    }
   ],
   "source": [
    "HPI"
   ]
  },
  {
   "cell_type": "code",
   "execution_count": null,
   "id": "d66a73a3",
   "metadata": {},
   "outputs": [],
   "source": []
  }
 ],
 "metadata": {
  "kernelspec": {
   "display_name": "Python 3",
   "language": "python",
   "name": "python3"
  },
  "language_info": {
   "codemirror_mode": {
    "name": "ipython",
    "version": 3
   },
   "file_extension": ".py",
   "mimetype": "text/x-python",
   "name": "python",
   "nbconvert_exporter": "python",
   "pygments_lexer": "ipython3",
   "version": "3.8.6"
  }
 },
 "nbformat": 4,
 "nbformat_minor": 5
}